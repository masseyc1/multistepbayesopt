{
 "cells": [
  {
   "cell_type": "code",
   "execution_count": 34,
   "metadata": {},
   "outputs": [],
   "source": [
    "import numpy as np\n",
    "from scipy.sparse import csr_matrix\n",
    "class GridMatrixHelper:\n",
    "    def __init__(self, alpha, cache=False):\n",
    "        self.alpha = alpha\n",
    "        \n",
    "        self.inv_cov_mtx = {}\n",
    "        self.cov_mtx = {}\n",
    "        self.bd_cov_mtx = {}\n",
    "        self.cache = cache\n",
    "    \n",
    "    # get the covariance matrix of the outer-boundary \n",
    "    # of an m x n grid.\n",
    "    def get_bd_cov_mtx(self, m, n):\n",
    "        # for the outer-boundary need to add a row / column on\n",
    "        # either side\n",
    "        cov_mtx = self.get_cov_mtx(m+2,n+2)\n",
    "        var_map = self.get_var_idx_map(m+2, n+2)\n",
    "        \n",
    "        \n",
    "        bd_vars = []\n",
    "        \n",
    "        # top boundary; i = 0; j = 1...n\n",
    "        i = 0\n",
    "        for j in range(1, n+1):\n",
    "            bd_vars.append((i,j))\n",
    "        \n",
    "        # right boundy; j = n+1; i = 1..m\n",
    "        j = n+1\n",
    "        for i in range(1,m+1):\n",
    "            bd_vars.append((i,j))\n",
    "        \n",
    "        # bottom boundary; i = m+1; j = n..1\n",
    "        i = m+1\n",
    "        for diff_j in range(1,n+1):\n",
    "            j = n+1 - diff_j\n",
    "            bd_vars.append((i,j))\n",
    "        \n",
    "        # left boundy; j = 0; i = m..1\n",
    "        j = 0\n",
    "        for diff_i in range(1, m+1):\n",
    "            i = m + 1 - diff_i\n",
    "            bd_vars.append((i,j))\n",
    "        \n",
    "        bd_cov = []\n",
    "        for row_var in bd_vars:\n",
    "            row = []\n",
    "            row_ind = var_map[row_var]\n",
    "            for col_var in bd_vars:\n",
    "                col_ind = var_map[col_var]\n",
    "                row.append(cov_mtx[row_ind, col_ind])\n",
    "            bd_cov.append(row)\n",
    "        return np.matrix(bd_cov)\n",
    "        \n",
    "        \n",
    "    def get_cov_mtx(self, m, n):\n",
    "        if (m,n) in self.cov_mtx:\n",
    "            return self.cov_mtx[(m,n)]\n",
    "        inv_cov = self.get_inv_cov_mtx(m,n)\n",
    "        mtx = np.linalg.inv(inv_cov)\n",
    "        if self.cache:\n",
    "            self.cov_mtx[(m,n)] = mtx\n",
    "        return mtx\n",
    "    \n",
    "    def get_inv_cov_mtx(self,m,n):\n",
    "        if (m,n) in self.inv_cov_mtx:\n",
    "            return self.inv_cov_mtx[(m,n)]\n",
    "        \n",
    "        var_map = self.get_var_idx_map(m,n)\n",
    "        inv_cov_data = []\n",
    "        row_ind = []\n",
    "        col_ind = []\n",
    "        for (i,j) in var_map:\n",
    "            row = var_map[(i,j)]\n",
    "            \n",
    "            inv_cov_data.append(1)\n",
    "            row_ind.append(row)\n",
    "            col_ind.append(row)\n",
    "            \n",
    "            if (i,j+1) in var_map:\n",
    "                col = var_map[(i,j+1)]\n",
    "                inv_cov_data.append(self.alpha)\n",
    "                row_ind.append(row)\n",
    "                col_ind.append(col)\n",
    "            \n",
    "            if (i,j-1) in var_map:\n",
    "                col = var_map[(i,j-1)]\n",
    "                inv_cov_data.append(self.alpha)\n",
    "                row_ind.append(row)\n",
    "                col_ind.append(col)\n",
    "            \n",
    "            if (i+1,j) in var_map:\n",
    "                col = var_map[(i+1,j)]\n",
    "                inv_cov_data.append(self.alpha)\n",
    "                row_ind.append(row)\n",
    "                col_ind.append(col)\n",
    "                \n",
    "            if (i-1,j) in var_map:\n",
    "                col = var_map[(i-1,j)]\n",
    "                inv_cov_data.append(self.alpha)\n",
    "                row_ind.append(row)\n",
    "                col_ind.append(col)\n",
    "                \n",
    "        mtx = csr_matrix((inv_cov_data, (row_ind, col_ind))).todense()\n",
    "        if self.cache:\n",
    "            self.inv_cov_mtx[(m,n)] = mtx\n",
    "        return mtx\n",
    "        \n",
    "    def get_var_idx_map(self, m, n):\n",
    "        var_map = {}\n",
    "        idx = 0\n",
    "        for i in range(m):\n",
    "            for j in range(n):\n",
    "                var_map[(i,j)] = idx\n",
    "                idx += 1\n",
    "        return var_map"
   ]
  },
  {
   "cell_type": "code",
   "execution_count": 35,
   "metadata": {
    "collapsed": true
   },
   "outputs": [],
   "source": [
    "mtx = GridMatrixHelper(0.3)"
   ]
  },
  {
   "cell_type": "code",
   "execution_count": 31,
   "metadata": {},
   "outputs": [],
   "source": [
    "inv_cov = mtx.get_inv_cov_mtx(2,2)"
   ]
  },
  {
   "cell_type": "code",
   "execution_count": 40,
   "metadata": {},
   "outputs": [],
   "source": [
    "cov = mtx.get_cov_mtx(4,4)"
   ]
  },
  {
   "cell_type": "code",
   "execution_count": 41,
   "metadata": {
    "scrolled": true
   },
   "outputs": [
    {
     "data": {
      "text/plain": [
       "matrix([[ 1.85115852, -1.41859753,  1.07880507, -0.59819213, -1.41859753,\n",
       "          1.79869485, -1.57922722,  0.9151687 ,  1.07880507, -1.57922722,\n",
       "          1.47142213, -0.87314299, -0.59819213,  0.9151687 , -0.87314299,\n",
       "          0.52388579],\n",
       "        [-1.41859753,  2.92996358, -2.01678966,  1.07880507,  1.79869485,\n",
       "         -2.99782476,  2.71386356, -1.57922722, -1.57922722,  2.55022719,\n",
       "         -2.45237021,  1.47142213,  0.9151687 , -1.47133512,  1.43905449,\n",
       "         -0.87314299],\n",
       "        [ 1.07880507, -2.01678966,  2.92996358, -1.41859753, -1.57922722,\n",
       "          2.71386356, -2.99782476,  1.79869485,  1.47142213, -2.45237021,\n",
       "          2.55022719, -1.57922722, -0.87314299,  1.43905449, -1.47133512,\n",
       "          0.9151687 ],\n",
       "        [-0.59819213,  1.07880507, -1.41859753,  1.85115852,  0.9151687 ,\n",
       "         -1.57922722,  1.79869485, -1.41859753, -0.87314299,  1.47142213,\n",
       "         -1.57922722,  1.07880507,  0.52388579, -0.87314299,  0.9151687 ,\n",
       "         -0.59819213],\n",
       "        [-1.41859753,  1.79869485, -1.57922722,  0.9151687 ,  2.92996358,\n",
       "         -2.99782476,  2.55022719, -1.47133512, -2.01678966,  2.71386356,\n",
       "         -2.45237021,  1.43905449,  1.07880507, -1.57922722,  1.47142213,\n",
       "         -0.87314299],\n",
       "        [ 1.79869485, -2.99782476,  2.71386356, -1.57922722, -2.99782476,\n",
       "          5.48019078, -4.46915987,  2.55022719,  2.71386356, -4.46915987,\n",
       "          4.15291805, -2.45237021, -1.57922722,  2.55022719, -2.45237021,\n",
       "          1.47142213],\n",
       "        [-1.57922722,  2.71386356, -2.99782476,  1.79869485,  2.55022719,\n",
       "         -4.46915987,  5.48019078, -2.99782476, -2.45237021,  4.15291805,\n",
       "         -4.46915987,  2.71386356,  1.47142213, -2.45237021,  2.55022719,\n",
       "         -1.57922722],\n",
       "        [ 0.9151687 , -1.57922722,  1.79869485, -1.41859753, -1.47133512,\n",
       "          2.55022719, -2.99782476,  2.92996358,  1.43905449, -2.45237021,\n",
       "          2.71386356, -2.01678966, -0.87314299,  1.47142213, -1.57922722,\n",
       "          1.07880507],\n",
       "        [ 1.07880507, -1.57922722,  1.47142213, -0.87314299, -2.01678966,\n",
       "          2.71386356, -2.45237021,  1.43905449,  2.92996358, -2.99782476,\n",
       "          2.55022719, -1.47133512, -1.41859753,  1.79869485, -1.57922722,\n",
       "          0.9151687 ],\n",
       "        [-1.57922722,  2.55022719, -2.45237021,  1.47142213,  2.71386356,\n",
       "         -4.46915987,  4.15291805, -2.45237021, -2.99782476,  5.48019078,\n",
       "         -4.46915987,  2.55022719,  1.79869485, -2.99782476,  2.71386356,\n",
       "         -1.57922722],\n",
       "        [ 1.47142213, -2.45237021,  2.55022719, -1.57922722, -2.45237021,\n",
       "          4.15291805, -4.46915987,  2.71386356,  2.55022719, -4.46915987,\n",
       "          5.48019078, -2.99782476, -1.57922722,  2.71386356, -2.99782476,\n",
       "          1.79869485],\n",
       "        [-0.87314299,  1.47142213, -1.57922722,  1.07880507,  1.43905449,\n",
       "         -2.45237021,  2.71386356, -2.01678966, -1.47133512,  2.55022719,\n",
       "         -2.99782476,  2.92996358,  0.9151687 , -1.57922722,  1.79869485,\n",
       "         -1.41859753],\n",
       "        [-0.59819213,  0.9151687 , -0.87314299,  0.52388579,  1.07880507,\n",
       "         -1.57922722,  1.47142213, -0.87314299, -1.41859753,  1.79869485,\n",
       "         -1.57922722,  0.9151687 ,  1.85115852, -1.41859753,  1.07880507,\n",
       "         -0.59819213],\n",
       "        [ 0.9151687 , -1.47133512,  1.43905449, -0.87314299, -1.57922722,\n",
       "          2.55022719, -2.45237021,  1.47142213,  1.79869485, -2.99782476,\n",
       "          2.71386356, -1.57922722, -1.41859753,  2.92996358, -2.01678966,\n",
       "          1.07880507],\n",
       "        [-0.87314299,  1.43905449, -1.47133512,  0.9151687 ,  1.47142213,\n",
       "         -2.45237021,  2.55022719, -1.57922722, -1.57922722,  2.71386356,\n",
       "         -2.99782476,  1.79869485,  1.07880507, -2.01678966,  2.92996358,\n",
       "         -1.41859753],\n",
       "        [ 0.52388579, -0.87314299,  0.9151687 , -0.59819213, -0.87314299,\n",
       "          1.47142213, -1.57922722,  1.07880507,  0.9151687 , -1.57922722,\n",
       "          1.79869485, -1.41859753, -0.59819213,  1.07880507, -1.41859753,\n",
       "          1.85115852]])"
      ]
     },
     "execution_count": 41,
     "metadata": {},
     "output_type": "execute_result"
    }
   ],
   "source": [
    "cov"
   ]
  },
  {
   "cell_type": "code",
   "execution_count": 38,
   "metadata": {
    "collapsed": true
   },
   "outputs": [],
   "source": [
    "bd_cov = mtx.get_bd_cov_mtx(2,2)"
   ]
  },
  {
   "cell_type": "code",
   "execution_count": null,
   "metadata": {
    "collapsed": true
   },
   "outputs": [],
   "source": []
  },
  {
   "cell_type": "code",
   "execution_count": null,
   "metadata": {
    "collapsed": true
   },
   "outputs": [],
   "source": []
  },
  {
   "cell_type": "code",
   "execution_count": 39,
   "metadata": {},
   "outputs": [
    {
     "data": {
      "text/plain": [
       "matrix([[ 2.92996358, -2.01678966, -1.57922722,  1.47142213,  1.43905449,\n",
       "         -1.47133512, -1.57922722,  1.79869485],\n",
       "        [-2.01678966,  2.92996358,  1.79869485, -1.57922722, -1.47133512,\n",
       "          1.43905449,  1.47142213, -1.57922722],\n",
       "        [-1.57922722,  1.79869485,  2.92996358, -2.01678966, -1.57922722,\n",
       "          1.47142213,  1.43905449, -1.47133512],\n",
       "        [ 1.47142213, -1.57922722, -2.01678966,  2.92996358,  1.79869485,\n",
       "         -1.57922722, -1.47133512,  1.43905449],\n",
       "        [ 1.43905449, -1.47133512, -1.57922722,  1.79869485,  2.92996358,\n",
       "         -2.01678966, -1.57922722,  1.47142213],\n",
       "        [-1.47133512,  1.43905449,  1.47142213, -1.57922722, -2.01678966,\n",
       "          2.92996358,  1.79869485, -1.57922722],\n",
       "        [-1.57922722,  1.47142213,  1.43905449, -1.47133512, -1.57922722,\n",
       "          1.79869485,  2.92996358, -2.01678966],\n",
       "        [ 1.79869485, -1.57922722, -1.47133512,  1.43905449,  1.47142213,\n",
       "         -1.57922722, -2.01678966,  2.92996358]])"
      ]
     },
     "execution_count": 39,
     "metadata": {},
     "output_type": "execute_result"
    }
   ],
   "source": [
    "bd_cov"
   ]
  },
  {
   "cell_type": "code",
   "execution_count": 42,
   "metadata": {},
   "outputs": [],
   "source": [
    "import numpy as np\n",
    "\n",
    "cov = np.eye(5)\n",
    "ones = np.ones(5)"
   ]
  },
  {
   "cell_type": "code",
   "execution_count": 46,
   "metadata": {},
   "outputs": [
    {
     "name": "stdout",
     "output_type": "stream",
     "text": [
      "159 µs ± 572 ns per loop (mean ± std. dev. of 7 runs, 10000 loops each)\n"
     ]
    }
   ],
   "source": [
    "%%timeit\n",
    "np.random.multivariate_normal(ones, cov, 100).shape"
   ]
  },
  {
   "cell_type": "code",
   "execution_count": 47,
   "metadata": {},
   "outputs": [
    {
     "name": "stdout",
     "output_type": "stream",
     "text": [
      "13.7 ms ± 114 µs per loop (mean ± std. dev. of 7 runs, 100 loops each)\n"
     ]
    }
   ],
   "source": [
    "%%timeit\n",
    "[np.random.multivariate_normal(ones, cov) for _ in range(100)]"
   ]
  },
  {
   "cell_type": "code",
   "execution_count": 48,
   "metadata": {
    "collapsed": true
   },
   "outputs": [],
   "source": [
    "sample = np.random.multivariate_normal(ones, cov)"
   ]
  },
  {
   "cell_type": "code",
   "execution_count": 49,
   "metadata": {},
   "outputs": [
    {
     "data": {
      "text/plain": [
       "array([0.67026267, 1.47121797, 3.0227228 , 1.79458078, 0.63703679])"
      ]
     },
     "execution_count": 49,
     "metadata": {},
     "output_type": "execute_result"
    }
   ],
   "source": [
    "sample"
   ]
  },
  {
   "cell_type": "code",
   "execution_count": 50,
   "metadata": {
    "collapsed": true
   },
   "outputs": [],
   "source": [
    "many_samples = np.random.multivariate_normal(ones, cov, 100)\n",
    "sample = many_samples[0,:]"
   ]
  },
  {
   "cell_type": "code",
   "execution_count": 51,
   "metadata": {},
   "outputs": [
    {
     "data": {
      "text/plain": [
       "array([0.91648501, 0.86957449, 1.20753371, 2.09217808, 0.44500375])"
      ]
     },
     "execution_count": 51,
     "metadata": {},
     "output_type": "execute_result"
    }
   ],
   "source": [
    "sample"
   ]
  },
  {
   "cell_type": "code",
   "execution_count": 52,
   "metadata": {},
   "outputs": [
    {
     "data": {
      "text/plain": [
       "array([2.57409614, 0.98864911, 0.21566363, 0.70398553, 0.83322771])"
      ]
     },
     "execution_count": 52,
     "metadata": {},
     "output_type": "execute_result"
    }
   ],
   "source": [
    "many_samples[99,:]"
   ]
  },
  {
   "cell_type": "code",
   "execution_count": null,
   "metadata": {
    "collapsed": true
   },
   "outputs": [],
   "source": []
  }
 ],
 "metadata": {
  "kernelspec": {
   "display_name": "Python 3",
   "language": "python",
   "name": "python3"
  },
  "language_info": {
   "codemirror_mode": {
    "name": "ipython",
    "version": 3
   },
   "file_extension": ".py",
   "mimetype": "text/x-python",
   "name": "python",
   "nbconvert_exporter": "python",
   "pygments_lexer": "ipython3",
   "version": "3.6.3"
  }
 },
 "nbformat": 4,
 "nbformat_minor": 2
}
